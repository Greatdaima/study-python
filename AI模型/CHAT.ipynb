{
 "cells": [
  {
   "cell_type": "code",
   "execution_count": null,
   "metadata": {},
   "outputs": [],
   "source": [
    "import torch\n",
    "import torch.nn as nn\n",
    "import math"
   ]
  },
  {
   "cell_type": "code",
   "execution_count": null,
   "metadata": {},
   "outputs": [],
   "source": [
    "\n",
    "class PositionalEncoding(nn.Module):\n",
    "    def __init__(self, d_model, dropout=0.1, max_len=5000):\n",
    "        super(PositionalEncoding, self).__init__()\n",
    "        self.dropout = nn.Dropout(p=dropout)\n",
    "        # 创建位置编码矩阵\n",
    "        pe = torch.zeros(max_len, d_model)\n",
    "        position = torch.arange(0, max_len, dtype=torch.float).unsqueeze(1)\n",
    "        div_term = torch.exp(torch.arange(0, d_model, 2).float() * (-math.log(10000.0) / d_model))\n",
    "        pe[:, 0::2] = torch.sin(position * div_term)\n",
    "        pe[:, 1::2] = torch.cos(position * div_term)\n",
    "        # 添加一个维度以匹配输入形状 (batch_size, seq_len, d_model)\n",
    "        self.pe = pe.unsqueeze(0)\n",
    "    def forward(self, x):\n",
    "        # 扩展位置编码以匹配批次大小和序列长度\n",
    "        pe = self.pe[:, :x.size(1), :]\n",
    "        print(x.shape,pe.shape)\n",
    "        x = x + pe\n",
    "        return self.dropout(x)"
   ]
  },
  {
   "cell_type": "code",
   "execution_count": null,
   "metadata": {},
   "outputs": [],
   "source": [
    "class TransformerModel(nn.Module):\n",
    "    def __init__(self, d_model, nhead, num_layers, dim_feedforward, dropout=0.1, vocab_size=10000):\n",
    "        super(TransformerModel, self).__init__()\n",
    "        # Transformer的编码器部分\n",
    "        encoder_layer = nn.TransformerEncoderLayer(d_model=d_model, nhead=nhead, dim_feedforward=dim_feedforward, dropout=dropout)\n",
    "        self.transformer_encoder = nn.TransformerEncoder(encoder_layer, num_layers=num_layers)\n",
    "        # 位置编码\n",
    "        self.pos_encoder = PositionalEncoding(d_model, dropout)\n",
    "        # 输入嵌入层\n",
    "        self.embedding = nn.Embedding(vocab_size, d_model)\n",
    "    def forward(self, src):\n",
    "        # 计算位置编码\n",
    "        src = self.pos_encoder(src)\n",
    "        # 通过嵌入层\n",
    "        src = self.embedding(src)\n",
    "        # 通过Transformer编码器\n",
    "        output = self.transformer_encoder(src)\n",
    "        return output"
   ]
  },
  {
   "cell_type": "code",
   "execution_count": null,
   "metadata": {},
   "outputs": [],
   "source": [
    "# 参数示例\n",
    "d_model = 512  # 模型维度\n",
    "nhead = 8     # 注意力头数\n",
    "num_layers = 6  # 编码器层数\n",
    "dim_feedforward = 2048  # 前馈网络的维度\n",
    "dropout = 0.1  # 丢弃率\n",
    "vocab_size = 10000  # 词汇表大小"
   ]
  },
  {
   "cell_type": "code",
   "execution_count": null,
   "metadata": {},
   "outputs": [],
   "source": [
    "# 创建模型实例\n",
    "model = TransformerModel(d_model, nhead, num_layers, dim_feedforward, dropout, vocab_size)\n",
    "model"
   ]
  },
  {
   "cell_type": "code",
   "execution_count": null,
   "metadata": {},
   "outputs": [],
   "source": [
    "# 示例输入\n",
    "src = torch.randint(0, vocab_size, (1,10, 512))  # 10个长度为20的序列\n",
    "# 前向传播\n",
    "output = model(src)\n",
    "print(output.shape)  # 输出形状应为 (10, 20, 512)"
   ]
  }
 ],
 "metadata": {
  "kernelspec": {
   "display_name": "game",
   "language": "python",
   "name": "python3"
  },
  "language_info": {
   "codemirror_mode": {
    "name": "ipython",
    "version": 3
   },
   "file_extension": ".py",
   "mimetype": "text/x-python",
   "name": "python",
   "nbconvert_exporter": "python",
   "pygments_lexer": "ipython3",
   "version": "3.8.19"
  }
 },
 "nbformat": 4,
 "nbformat_minor": 2
}
