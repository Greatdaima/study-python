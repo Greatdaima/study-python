{
 "cells": [
  {
   "cell_type": "markdown",
   "metadata": {},
   "source": [
    "### kanslayer"
   ]
  },
  {
   "cell_type": "code",
   "execution_count": 29,
   "metadata": {},
   "outputs": [],
   "source": [
    "%reload_ext autoreload\n",
    "import torch\n",
    "from tot.kans import KANLayer"
   ]
  },
  {
   "cell_type": "code",
   "execution_count": 36,
   "metadata": {},
   "outputs": [
    {
     "data": {
      "text/plain": [
       "(tensor([[-0.5646, -0.5540],\n",
       "         [ 2.4432,  2.4118]], grad_fn=<SumBackward1>),\n",
       " tensor([[[-2.8988, -0.2657, -0.9008],\n",
       "          [-2.8988, -0.2657, -0.9008]],\n",
       " \n",
       "         [[ 0.3424,  0.1560,  2.3738],\n",
       "          [ 0.3424,  0.1560,  2.3738]]]),\n",
       " tensor([[[-0.1450, -0.1315, -0.2880],\n",
       "          [-0.1441, -0.1401, -0.2698]],\n",
       " \n",
       "         [[ 0.2163,  0.0852,  2.1417],\n",
       "          [ 0.2184,  0.0492,  2.1442]]], grad_fn=<ViewBackward0>),\n",
       " tensor([[[ 0.0063, -0.0162, -0.0278],\n",
       "          [ 0.0073, -0.0248, -0.0096]],\n",
       " \n",
       "         [[ 0.0161,  0.0011, -0.0298],\n",
       "          [ 0.0182, -0.0349, -0.0274]]], grad_fn=<ReshapeAliasBackward0>))"
      ]
     },
     "execution_count": 36,
     "metadata": {},
     "output_type": "execute_result"
    }
   ],
   "source": [
    "model = KANLayer(in_dim=3,out_dim=2,num=1,base_fun=torch.nn.Sil)\n",
    "x = torch.randn(2,3)\n",
    "y, preacts, postacts, postspline = model(x)\n",
    "y, preacts, postacts, postspline"
   ]
  },
  {
   "cell_type": "code",
   "execution_count": 40,
   "metadata": {},
   "outputs": [
    {
     "name": "stdout",
     "output_type": "stream",
     "text": [
      "SiLU()\n"
     ]
    }
   ],
   "source": [
    "print(model.base_fun)"
   ]
  }
 ],
 "metadata": {
  "kernelspec": {
   "display_name": "game",
   "language": "python",
   "name": "python3"
  },
  "language_info": {
   "codemirror_mode": {
    "name": "ipython",
    "version": 3
   },
   "file_extension": ".py",
   "mimetype": "text/x-python",
   "name": "python",
   "nbconvert_exporter": "python",
   "pygments_lexer": "ipython3",
   "version": "3.8.19"
  }
 },
 "nbformat": 4,
 "nbformat_minor": 2
}
