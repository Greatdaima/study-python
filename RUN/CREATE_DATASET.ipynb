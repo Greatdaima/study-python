{
 "cells": [
  {
   "cell_type": "markdown",
   "metadata": {},
   "source": [
    "## 保存数据集"
   ]
  },
  {
   "cell_type": "code",
   "execution_count": 1,
   "metadata": {},
   "outputs": [
    {
     "data": {
      "application/vnd.jupyter.widget-view+json": {
       "model_id": "baa7145dd90d4f1fbf2d0bd50b403dcd",
       "version_major": 2,
       "version_minor": 0
      },
      "text/plain": [
       "Resolving data files:   0%|          | 0/520 [00:00<?, ?it/s]"
      ]
     },
     "metadata": {},
     "output_type": "display_data"
    },
    {
     "data": {
      "application/vnd.jupyter.widget-view+json": {
       "model_id": "a9584dae27bd47c1b42b855c8258649d",
       "version_major": 2,
       "version_minor": 0
      },
      "text/plain": [
       "Downloading data:   0%|          | 0/520 [00:00<?, ?files/s]"
      ]
     },
     "metadata": {},
     "output_type": "display_data"
    },
    {
     "data": {
      "application/vnd.jupyter.widget-view+json": {
       "model_id": "7baeb21d228d4e2da65bc4066e1cd9a4",
       "version_major": 2,
       "version_minor": 0
      },
      "text/plain": [
       "Generating train split: 0 examples [00:00, ? examples/s]"
      ]
     },
     "metadata": {},
     "output_type": "display_data"
    }
   ],
   "source": [
    "from datasets import load_dataset\n",
    "import os\n",
    "# 文本文件所在路径\n",
    "path = \"E:/python-test/DATASETS/txt_datasets/\"\n",
    "# 获取所有 txt 文件\n",
    "txt_files = [file for file in os.listdir(path) if file.endswith('.txt')]\n",
    "\n",
    "# 加载数据集\n",
    "dataset = load_dataset('text', data_files=[os.path.join(path, file) for file in txt_files])"
   ]
  },
  {
   "cell_type": "code",
   "execution_count": 2,
   "metadata": {},
   "outputs": [
    {
     "data": {
      "application/vnd.jupyter.widget-view+json": {
       "model_id": "265c1e08702447549393abd327014afc",
       "version_major": 2,
       "version_minor": 0
      },
      "text/plain": [
       "Saving the dataset (0/2 shards):   0%|          | 0/6733967 [00:00<?, ? examples/s]"
      ]
     },
     "metadata": {},
     "output_type": "display_data"
    }
   ],
   "source": [
    "dataset.save_to_disk(r\"E:\\python-test\\DATASETS\\txt_dataset\")"
   ]
  },
  {
   "cell_type": "code",
   "execution_count": 3,
   "metadata": {},
   "outputs": [
    {
     "data": {
      "application/vnd.jupyter.widget-view+json": {
       "model_id": "767631c9adde44cdac60469468296ae1",
       "version_major": 2,
       "version_minor": 0
      },
      "text/plain": [
       "Generating train split: 0 examples [00:00, ? examples/s]"
      ]
     },
     "metadata": {},
     "output_type": "display_data"
    }
   ],
   "source": [
    "loaded_dataset = load_dataset(r\"E:\\python-test\\DATASETS\\txt_dataset\")"
   ]
  },
  {
   "cell_type": "code",
   "execution_count": 6,
   "metadata": {},
   "outputs": [
    {
     "data": {
      "text/plain": [
       "'\\u3000\\u3000作者：finxue 2009/05/11 发表於：春满四合院'"
      ]
     },
     "execution_count": 6,
     "metadata": {},
     "output_type": "execute_result"
    }
   ],
   "source": [
    "dataset['train'][5]['text']"
   ]
  },
  {
   "cell_type": "code",
   "execution_count": 7,
   "metadata": {},
   "outputs": [
    {
     "data": {
      "application/vnd.jupyter.widget-view+json": {
       "model_id": "2dda58e006fd48599c23b4bd76a304fe",
       "version_major": 2,
       "version_minor": 0
      },
      "text/plain": [
       "Generating train split: 0 examples [00:00, ? examples/s]"
      ]
     },
     "metadata": {},
     "output_type": "display_data"
    }
   ],
   "source": [
    "loaded_dataset = load_dataset(r\"E:\\python-test\\DATASETS\\zxbsmkwebnovel_cn\")"
   ]
  },
  {
   "cell_type": "code",
   "execution_count": 10,
   "metadata": {},
   "outputs": [
    {
     "data": {
      "text/plain": [
       "{'input': '有其主必有其仆，咱们张大少爷的话还没有说完，张石头的口水就已经流出了嘴角，张大少爷又趁热打铁，鼓动道：“你想想，熊瑚那个丫鬟秀儿长得有多漂亮啊？你如果一辈子窝在这个临清城里，有没有可能讨到这么漂亮的媳妇？这么好的机会放在面前，难道你想错过，以后就只抱着一个黄脸婆过下半辈子？”\\n张大少爷的话句句都打中要害，二十出头还没讨到老婆的张石头难免动心无比，不过仔细考虑了一下后，张石头还是哭丧着脸说道：“少爷，不是小的拦着你，只是这事可不是开玩笑，你从小就没离开过临清城，忽然之间悄悄离开家进京，老爷和十一位夫人怎么可能放心得下？只怕你前脚出了城，老爷后脚就派人把你抓回家了。而且还有一点，那只母老虎熊瑚实在太凶了，我们进了京城就算能找得到她，只怕少爷你也没办法把她娶回家啊？”\\n“怕什么？只要功夫深，铁棒磨成针，咱们只要再见到熊瑚那只母老虎，就肯定有办法把她连人带丫鬟一起弄回临清。”早有打算却不能明言的张大少爷随口瞎扯，又皱眉道：“至于老头子这边，是得防着他派人来抓我们，否则他回来发现少爷我不在家，肯定要到处去找。”琢磨到这里，张大少爷一拍大腿，喜道：“对了，有办法让老头子抓不到咱们了。”\\n“什么办法？”张石头赶紧问道。张大少爷奸笑道：“别急，到时候你就知道了。别罗嗦了，快回家收拾行李，乘着还没天黑赶快动身。”',\n",
       " 'instruction': '给你一段话，帮我继续写下去',\n",
       " 'output': '张石头将信将疑，又实在细胳臂扭不过大腿，只得咬牙决定赌上一把，“好吧，既然少爷你执意要去，小的就陪你走上这一趟。不过将来老爷如果追究起来，少爷你可要给小的说几句好话。”张大少爷咧嘴一笑，安慰道：“放心吧，如果老头子真的把我们抓住了，少爷我全抗下来，不关你事。”\\n……\\n好不容易说服张石头同行，当下张大少爷和张石头一主一仆两个活宝立即行动起来，先是翻墙回家分头行动，张石头摸到张大少爷房间里收拾衣服行李，张大少爷则通过记忆找出前任张大少爷偷配的银库钥匙摸进张老财的书房，打开张老财用来收藏贵重财物的密库，搜刮出厚厚一大叠银票和满满一大包金叶子金元宝，又装了不少极其贵重的珠宝，这才偷偷摸回自己的房间与张石头会合。\\n刚进门，张石头就举起一个包裹说岛：“少爷，东西都准备好了，按你的吩咐，你和我都只带了一套换洗的衣服，还有一点零用的碎银子。”张大少爷点点头，又让张石头拿出房中已经积满灰尘的笔墨纸砚，吩咐道：“石头，快，给我家老头子留一封信，就说少爷我要进京去考状元，叫他不用担心，少爷考上状元就会回家或者接他去京城享福。还有，告诉老头子，少爷我是坐船进京，叫他不要去追。”'}"
      ]
     },
     "execution_count": 10,
     "metadata": {},
     "output_type": "execute_result"
    }
   ],
   "source": [
    "loaded_dataset['train'][0]"
   ]
  }
 ],
 "metadata": {
  "kernelspec": {
   "display_name": "game",
   "language": "python",
   "name": "python3"
  },
  "language_info": {
   "codemirror_mode": {
    "name": "ipython",
    "version": 3
   },
   "file_extension": ".py",
   "mimetype": "text/x-python",
   "name": "python",
   "nbconvert_exporter": "python",
   "pygments_lexer": "ipython3",
   "version": "3.8.19"
  }
 },
 "nbformat": 4,
 "nbformat_minor": 2
}
