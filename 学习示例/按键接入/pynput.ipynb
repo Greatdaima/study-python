{
 "cells": [
  {
   "cell_type": "markdown",
   "metadata": {},
   "source": [
    "## 鼠标控制"
   ]
  },
  {
   "cell_type": "code",
   "execution_count": 48,
   "metadata": {},
   "outputs": [
    {
     "name": "stdout",
     "output_type": "stream",
     "text": [
      "(500, 863)\n"
     ]
    }
   ],
   "source": [
    "import pynput\n",
    "from pynput.mouse import Controller,Button,Events,Listener\n",
    "mouse = Controller()\n",
    "# 模拟左键点击\n",
    "mouse.click(Button.left)\n",
    "# 模拟右键点击\n",
    "# mouse.click(Button.right)\n",
    "# 将鼠标移动到指定位置（x, y）\n",
    "mouse.position = (500, 1000)\n",
    "print(mouse.position)"
   ]
  },
  {
   "cell_type": "markdown",
   "metadata": {},
   "source": [
    "## 键盘控制"
   ]
  },
  {
   "cell_type": "code",
   "execution_count": 58,
   "metadata": {},
   "outputs": [],
   "source": [
    "from pynput.keyboard import Controller, Key\n",
    "\n",
    "keyboard = Controller()\n",
    "# 模拟按下和释放键盘上的某个按键\n",
    "keyboard.press(Key.space)\n",
    "keyboard.release(Key.space)\n",
    "\n"
   ]
  },
  {
   "cell_type": "code",
   "execution_count": 59,
   "metadata": {},
   "outputs": [],
   "source": [
    "from pynput.keyboard import Controller, Key\n",
    "\n",
    "keyboard = Controller()\n",
    "# 输入文本\n",
    "keyboard.type(\"Hello, World!\")\n"
   ]
  },
  {
   "cell_type": "code",
   "execution_count": null,
   "metadata": {},
   "outputs": [],
   "source": []
  }
 ],
 "metadata": {
  "kernelspec": {
   "display_name": "game",
   "language": "python",
   "name": "python3"
  },
  "language_info": {
   "codemirror_mode": {
    "name": "ipython",
    "version": 3
   },
   "file_extension": ".py",
   "mimetype": "text/x-python",
   "name": "python",
   "nbconvert_exporter": "python",
   "pygments_lexer": "ipython3",
   "version": "3.8.19"
  }
 },
 "nbformat": 4,
 "nbformat_minor": 2
}
